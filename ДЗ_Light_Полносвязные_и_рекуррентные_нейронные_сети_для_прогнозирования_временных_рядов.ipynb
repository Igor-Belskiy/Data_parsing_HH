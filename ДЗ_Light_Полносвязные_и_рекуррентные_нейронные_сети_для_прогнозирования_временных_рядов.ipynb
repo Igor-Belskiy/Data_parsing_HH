{
  "nbformat": 4,
  "nbformat_minor": 0,
  "metadata": {
    "colab": {
      "name": "ДЗ Light Полносвязные и рекуррентные нейронные сети для прогнозирования временных рядов.ipynb",
      "provenance": [],
      "collapsed_sections": [],
      "authorship_tag": "ABX9TyMVLLyCF+spZy2lSc1/fpT/",
      "include_colab_link": true
    },
    "kernelspec": {
      "name": "python3",
      "display_name": "Python 3"
    },
    "language_info": {
      "name": "python"
    }
  },
  "cells": [
    {
      "cell_type": "markdown",
      "metadata": {
        "id": "view-in-github",
        "colab_type": "text"
      },
      "source": [
        "<a href=\"https://colab.research.google.com/github/Igor-Belskiy/Data_parsing_HH/blob/main/%D0%94%D0%97_Light_%D0%9F%D0%BE%D0%BB%D0%BD%D0%BE%D1%81%D0%B2%D1%8F%D0%B7%D0%BD%D1%8B%D0%B5_%D0%B8_%D1%80%D0%B5%D0%BA%D1%83%D1%80%D1%80%D0%B5%D0%BD%D1%82%D0%BD%D1%8B%D0%B5_%D0%BD%D0%B5%D0%B9%D1%80%D0%BE%D0%BD%D0%BD%D1%8B%D0%B5_%D1%81%D0%B5%D1%82%D0%B8_%D0%B4%D0%BB%D1%8F_%D0%BF%D1%80%D0%BE%D0%B3%D0%BD%D0%BE%D0%B7%D0%B8%D1%80%D0%BE%D0%B2%D0%B0%D0%BD%D0%B8%D1%8F_%D0%B2%D1%80%D0%B5%D0%BC%D0%B5%D0%BD%D0%BD%D1%8B%D1%85_%D1%80%D1%8F%D0%B4%D0%BE%D0%B2.ipynb\" target=\"_parent\"><img src=\"https://colab.research.google.com/assets/colab-badge.svg\" alt=\"Open In Colab\"/></a>"
      ]
    },
    {
      "cell_type": "markdown",
      "source": [
        "#Задание Lite\n",
        "\n",
        "Работа осуществляется с базой акции лукойла.\n",
        "\n",
        "1. Обучите простую полносвязную сеть для прогнозирования временного ряда. Используйте только столбец close и визуализируйте результат.\n",
        "\n",
        "2. Обучите такую же архитектуру сети на прогнозирование на 10 шагов вперёд прямым способом и визуализируйте результат.\n",
        "\n",
        "3. Постройте графики сравнения предсказания с оригинальным сигналом по всем 10 шагам предсказания (10 графиков на разных отдельных осях).\n",
        "\n",
        "4. Сделайте те же задания с другой сетью, которая будет использовать Conv1D или LSTM слой"
      ],
      "metadata": {
        "id": "OEh1CnyGsQCm"
      }
    },
    {
      "cell_type": "markdown",
      "source": [
        "# Загрузка библиотек и данных"
      ],
      "metadata": {
        "id": "IduscgxjgEkG"
      }
    },
    {
      "cell_type": "code",
      "execution_count": null,
      "metadata": {
        "id": "lC9wI33IkPbW"
      },
      "outputs": [],
      "source": [
        "#Загружаем библиотеки 156\n",
        "\n",
        "import pandas as pd #Пандас\n",
        "import matplotlib.pyplot as plt #Отрисовка графиков\n",
        "from tensorflow.keras.utils import to_categorical \n",
        "import numpy as np #Numpy\n",
        "from tensorflow.keras.optimizers import Adam #Оптимизатор\n",
        "from tensorflow.keras.models import Sequential, Model #Два варианты моделей\n",
        "from tensorflow.keras.layers import concatenate, Input, Dense, Dropout, BatchNormalization, Flatten, Conv1D, Conv2D, LSTM, GlobalMaxPooling1D, MaxPooling1D, RepeatVector #Стандартные слои\n",
        "from sklearn.preprocessing import StandardScaler, MinMaxScaler #Нормировщики\n",
        "from tensorflow.keras.preprocessing.sequence import TimeseriesGenerator # для генерации выборки временных рядов\n",
        "\n",
        "import warnings\n",
        "warnings.filterwarnings(\"ignore\")\n",
        "# Рисовать графики сразу же\n",
        "%matplotlib inline"
      ]
    },
    {
      "cell_type": "code",
      "source": [
        "!rm -rf *      # Удаление всех каталогов и файлов в текущей директории"
      ],
      "metadata": {
        "id": "xEeY1y74f4nO"
      },
      "execution_count": null,
      "outputs": []
    },
    {
      "cell_type": "code",
      "source": [
        "# Загружаем данные в колаб\n",
        "\n",
        "import gdown\n",
        "gdown.download('https://drive.google.com/uc?id=1g6CCPyp_UejO9O6Lon6KdL3fOVGGsCxz', '16_17.csv', quiet=False)\n",
        "gdown.download('https://drive.google.com/uc?id=1Xk250F0NjfIaTrMgCFiEmo-qQ1ydf8Gq', '18_19.csv', quiet=False)"
      ],
      "metadata": {
        "id": "XZZ1biT3f9ws",
        "colab": {
          "base_uri": "https://localhost:8080/",
          "height": 184
        },
        "outputId": "ee18c062-9301-437a-d90d-089a53bf7687"
      },
      "execution_count": null,
      "outputs": [
        {
          "output_type": "stream",
          "name": "stderr",
          "text": [
            "Downloading...\n",
            "From: https://drive.google.com/uc?id=1g6CCPyp_UejO9O6Lon6KdL3fOVGGsCxz\n",
            "To: /content/16_17.csv\n",
            "100%|██████████| 12.9M/12.9M [00:00<00:00, 25.8MB/s]\n",
            "Downloading...\n",
            "From: https://drive.google.com/uc?id=1Xk250F0NjfIaTrMgCFiEmo-qQ1ydf8Gq\n",
            "To: /content/18_19.csv\n",
            "100%|██████████| 10.7M/10.7M [00:00<00:00, 45.3MB/s]\n"
          ]
        },
        {
          "output_type": "execute_result",
          "data": {
            "application/vnd.google.colaboratory.intrinsic+json": {
              "type": "string"
            },
            "text/plain": [
              "'18_19.csv'"
            ]
          },
          "metadata": {},
          "execution_count": 3
        }
      ]
    }
  ]
}